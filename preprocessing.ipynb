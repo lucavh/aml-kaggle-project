{
 "cells": [
  {
   "cell_type": "code",
   "execution_count": 134,
   "metadata": {},
   "outputs": [],
   "source": [
    "from __future__ import print_function, division\n",
    "import os\n",
    "import time\n",
    "import copy\n",
    "import math\n",
    "import random \n",
    "import pandas as pd\n",
    "import numpy as np\n",
    "import matplotlib.pyplot as plt\n",
    "\n",
    "import torch\n",
    "from torch.utils import data\n",
    "from torch.utils.data import Dataset, DataLoader\n",
    "from torch.autograd import Variable\n",
    "import torch.nn as nn\n",
    "import torchvision\n",
    "import torchvision.datasets as dsets\n",
    "import torchvision.transforms as transforms\n",
    "import torch.optim as optim\n",
    "from torch.optim import lr_scheduler\n",
    "from torchvision import datasets, models, transforms\n",
    "\n",
    "from skimage import io, transform\n",
    "from skimage.transform import resize\n",
    "\n",
    "from sklearn import preprocessing\n",
    "\n",
    "import cv2\n",
    "\n",
    "# Ignore warnings\n",
    "import warnings\n",
    "warnings.filterwarnings(\"ignore\")"
   ]
  },
  {
   "cell_type": "markdown",
   "metadata": {},
   "source": [
    "# Create dataset class"
   ]
  },
  {
   "cell_type": "code",
   "execution_count": 135,
   "metadata": {},
   "outputs": [],
   "source": [
    "class PlanktonDataset(data.Dataset):\n",
    "    'Characterizes a dataset for PyTorch'\n",
    "    def __init__(self, list_IDs, labels, img_dir, transform=None):\n",
    "        'Initialization'\n",
    "        self.labels = labels\n",
    "        self.list_IDs = list_IDs\n",
    "        self.transform = transform\n",
    "        self.img_dir = img_dir\n",
    "\n",
    "    def __len__(self):\n",
    "        'Denotes the total number of samples'\n",
    "        return len(self.list_IDs)\n",
    "\n",
    "    def __getitem__(self, index):\n",
    "        'Generates one sample of data'\n",
    "        \n",
    "        # Select sample\n",
    "        ID = self.list_IDs[index]\n",
    "        \n",
    "        img_name = os.path.join(self.img_dir,ID)\n",
    "        X = io.imread(img_name)\n",
    "        \n",
    "        if self.transform:\n",
    "            X = self.transform(X)\n",
    "        \n",
    "        y = self.labels[ID]\n",
    "\n",
    "        return X, y, img_name"
   ]
  },
  {
   "cell_type": "markdown",
   "metadata": {},
   "source": [
    "# Preprocessing\n",
    "These classes should return the image object."
   ]
  },
  {
   "cell_type": "code",
   "execution_count": 205,
   "metadata": {},
   "outputs": [],
   "source": [
    "class Rescale(object):\n",
    "    \"\"\"Rescale the image in a sample to a given size.\n",
    "\n",
    "    Args:\n",
    "        output_size (tuple or int): Desired output size. If tuple, output is\n",
    "            matched to output_size. If int, smaller of image edges is matched\n",
    "            to output_size keeping aspect ratio the same.\n",
    "    \"\"\"\n",
    "\n",
    "    def __init__(self, output_size):\n",
    "        assert isinstance(output_size, (int, tuple))\n",
    "        self.output_size = output_size\n",
    "\n",
    "    def __call__(self, image):\n",
    "        \n",
    "        h, w = image.shape\n",
    "        if isinstance(self.output_size, int):\n",
    "            if h > w:\n",
    "                new_h, new_w = self.output_size * h / w, self.output_size\n",
    "            else:\n",
    "                new_h, new_w = self.output_size, self.output_size * w / h\n",
    "        else:\n",
    "            new_h, new_w = self.output_size\n",
    "\n",
    "        new_h, new_w = int(new_h), int(new_w)\n",
    "        \n",
    "        # Make the range of the pixels between 0-1\n",
    "        img = transform.resize(image, (new_h, new_w))\n",
    "        return img\n",
    "    \n",
    "class RandomCrop(object):\n",
    "    \"\"\"Crop randomly the image in a sample.\n",
    "\n",
    "    Args:\n",
    "        output_size (tuple or int): Desired output size. If int, square crop\n",
    "            is made.\n",
    "    \"\"\"\n",
    "\n",
    "    def __init__(self, output_size):\n",
    "        assert isinstance(output_size, (int, tuple))\n",
    "        if isinstance(output_size, int):\n",
    "            self.output_size = (output_size, output_size)\n",
    "        else:\n",
    "            assert len(output_size) == 2\n",
    "            self.output_size = output_size\n",
    "\n",
    "    def __call__(self, image):\n",
    "        h, w = image.shape[:2]\n",
    "        new_h, new_w = self.output_size\n",
    "\n",
    "        top = np.random.randint(0, h - new_h)\n",
    "        left = np.random.randint(0, w - new_w)\n",
    "\n",
    "        img = image[top: top + new_h,\n",
    "                      left: left + new_w]\n",
    "\n",
    "        return img\n",
    "    \n",
    "class ResizePadded(object):\n",
    "    \"\"\"Padd the image so it will be rectangular.\"\"\"\n",
    "    \n",
    "    def __init__(self, order=1):\n",
    "        self.order = order\n",
    "    \n",
    "    def __call__(self, image):\n",
    "        desired_size = max(image.shape)\n",
    "        old_size = image.shape\n",
    "\n",
    "        delta_w = desired_size - old_size[1]\n",
    "        delta_h = desired_size - old_size[0]\n",
    "        top, bottom = delta_h//2, delta_h-(delta_h//2)\n",
    "        left, right = delta_w//2, delta_w-(delta_w//2)\n",
    "            \n",
    "        color = [255, 255, 255]\n",
    "        new_im = cv2.copyMakeBorder(image, top, bottom, left, right, cv2.BORDER_CONSTANT,value=color)\n",
    "        return new_im\n",
    "\n",
    "class Normalize(object):\n",
    "    \"\"\"Convert image to normalized image\"\"\"\n",
    "    \n",
    "    def __call__(self, image):\n",
    "        normalized_image = preprocessing.normalize(image)\n",
    "        return normalized_image\n",
    "\n",
    "    #Not used yet.\n",
    "class Standardize(object):\n",
    "    \"\"\"Convert image to standardized image\"\"\"\n",
    "    \n",
    "    def __call__(self, image):\n",
    "        standardized_image = preprocessing.scale(image)\n",
    "        return standardized_image\n",
    "\n",
    "class ToTensor(object):\n",
    "    \"\"\"Convert ndarrays in sample to Tensors.\"\"\"\n",
    "\n",
    "    def __call__(self, image):\n",
    "        # swap color axis because\n",
    "        # numpy image: H x W \n",
    "        # torch image: C X H X W\n",
    "        image = np.expand_dims(image, axis=0)\n",
    "        return torch.from_numpy(image)"
   ]
  },
  {
   "cell_type": "markdown",
   "metadata": {},
   "source": [
    "# Create training and validation sets"
   ]
  },
  {
   "cell_type": "code",
   "execution_count": 179,
   "metadata": {},
   "outputs": [],
   "source": [
    "# Training data\n",
    "training_data = pd.read_csv('train_onelabel.csv')\n",
    "IDs_train = training_data['image'].tolist()\n",
    "random.shuffle(IDs_train)\n",
    "\n",
    "# Labels of trained images  \n",
    "labels_train = dict(zip(training_data['image'], training_data['class']))\n",
    "\n",
    "# Testing data\n",
    "testing_data = pd.read_csv('sample.csv')\n",
    "IDs_test = testing_data['image'].tolist()\n",
    "\n",
    "# Labels of trained images  \n",
    "labels_test = dict(zip(testing_data['image'], testing_data['class']))\n",
    "\n",
    "partition = {}\n",
    "partition['train'] = IDs_train\n",
    "partition['validation'] = IDs_test"
   ]
  },
  {
   "cell_type": "markdown",
   "metadata": {},
   "source": [
    "# Create torch datasets"
   ]
  },
  {
   "cell_type": "code",
   "execution_count": 180,
   "metadata": {},
   "outputs": [],
   "source": [
    "# Parameters\n",
    "num_epochs = 25\n",
    "batch_size = 1000\n",
    "learning_rate = 0.001\n",
    "\n",
    "resize_scale = 36\n",
    "crop = 32\n",
    "padd_size = (400, 400)\n",
    "num_classes = pd.read_csv('label_map.txt',header=None).shape[0]"
   ]
  },
  {
   "cell_type": "code",
   "execution_count": 202,
   "metadata": {},
   "outputs": [],
   "source": [
    "# Training\n",
    "training_set = PlanktonDataset(partition['train'], \n",
    "                               labels_train, \n",
    "                               img_dir='train_images/',\n",
    "                               transform=transforms.Compose([ResizePadded(), Normalize(),\n",
    "                                                              Rescale(resize_scale), ToTensor()]))\n",
    "training_generator = data.DataLoader(dataset=training_set,\n",
    "                                           batch_size=batch_size,\n",
    "                                           shuffle=True)"
   ]
  },
  {
   "cell_type": "code",
   "execution_count": 203,
   "metadata": {},
   "outputs": [],
   "source": [
    "# Validation\n",
    "validation_set = PlanktonDataset(partition['validation'], \n",
    "                               labels_test, \n",
    "                               img_dir='test_images/',\n",
    "                               transform=transforms.Compose([ResizePadded(), Normalize(),\n",
    "                                                             Rescale(resize_scale), ToTensor()]))\n",
    "validation_generator = data.DataLoader(dataset=validation_set,\n",
    "                                           batch_size=batch_size,\n",
    "                                           shuffle=True)"
   ]
  },
  {
   "cell_type": "markdown",
   "metadata": {},
   "source": [
    "# Testing if everything worked so far"
   ]
  },
  {
   "cell_type": "code",
   "execution_count": 204,
   "metadata": {},
   "outputs": [
    {
     "data": {
      "image/png": "[encoded data removed]",
      "text/plain": [
       "<Figure size 432x288 with 4 Axes>"
      ]
     },
     "metadata": {},
     "output_type": "display_data"
    }
   ],
   "source": [
    "fig = plt.figure()\n",
    "\n",
    "for i in range(len(training_set)):\n",
    "    \n",
    "    sample = training_set[i+10]\n",
    "    x = sample[0]\n",
    "    ax = plt.subplot(1, 4, i + 1)\n",
    "    plt.tight_layout()\n",
    "    ax.set_title('Sample #{}'.format(i))\n",
    "    plt.imshow(sample[0][0,:,:],cmap='gray')\n",
    "\n",
    "    if i == 3:\n",
    "        #plt.show()\n",
    "        break "
   ]
  },
  {
   "cell_type": "code",
   "execution_count": null,
   "metadata": {},
   "outputs": [],
   "source": []
  }
 ],
 "metadata": {
  "kernelspec": {
   "display_name": "Python 3",
   "language": "python",
   "name": "python3"
  },
  "language_info": {
   "codemirror_mode": {
    "name": "ipython",
    "version": 3
   },
   "file_extension": ".py",
   "mimetype": "text/x-python",
   "name": "python",
   "nbconvert_exporter": "python",
   "pygments_lexer": "ipython3",
   "version": "3.6.5"
  }
 },
 "nbformat": 4,
 "nbformat_minor": 2
}
