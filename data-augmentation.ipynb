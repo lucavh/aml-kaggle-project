{
 "cells": [
  {
   "cell_type": "code",
   "execution_count": 27,
   "metadata": {},
   "outputs": [],
   "source": [
    "from __future__ import print_function, division\n",
    "import os\n",
    "from scipy import ndarray\n",
    "import skimage as sk\n",
    "import pandas as pd\n",
    "from skimage import io, transform, util\n",
    "import numpy as np\n",
    "\n",
    "# Ignore warnings\n",
    "import warnings\n",
    "warnings.filterwarnings(\"ignore\")\n",
    "\n",
    "def data_augment(file_dir, image_dir, rotation, shear):\n",
    "    \n",
    "    training_data = pd.read_csv(file_dir+'train_onelabel.csv')\n",
    "    IDs_train = training_data['image'].tolist()\n",
    "    \n",
    "    c = 0\n",
    "\n",
    "    for ID in IDs_train:\n",
    "        img_name = os.path.join(image_dir+ID)\n",
    "        X = io.imread(img_name)\n",
    "\n",
    "        c += 1\n",
    "        if c > 2:\n",
    "            break\n",
    "\n",
    "        for deg in rotation:\n",
    "            X_rot = sk.transform.rotate(X, deg, resize=True, mode='constant', cval=1.0)\n",
    "\n",
    "            for sh in shear: \n",
    "                if deg==0 and sh==0:\n",
    "                    continue\n",
    "                else:\n",
    "                    tform = sk.transform.AffineTransform(rotation=np.deg2rad(0), shear=np.deg2rad(sh))\n",
    "                    X_shear = sk.transform.warp(X_rot, tform, mode='constant', cval=1.0)\n",
    "\n",
    "                    new_file_name = ID[:-4]+'_'+str(deg)+'_'+str(sh)+'.jpg'\n",
    "                    sk.io.imsave(new_file_name, X_shear)\n",
    "        \n",
    "        if c % 100 == 0:\n",
    "            print('Progress:',c)\n",
    "\n",
    "data_augment(file_dir='', image_dir='train_images/', rotation=[0,90,180,270], shear=[-20,0,20])"
   ]
  }
 ],
 "metadata": {
  "kernelspec": {
   "display_name": "Python 3",
   "language": "python",
   "name": "python3"
  },
  "language_info": {
   "codemirror_mode": {
    "name": "ipython",
    "version": 3
   },
   "file_extension": ".py",
   "mimetype": "text/x-python",
   "name": "python",
   "nbconvert_exporter": "python",
   "pygments_lexer": "ipython3",
   "version": "3.6.7"
  }
 },
 "nbformat": 4,
 "nbformat_minor": 2
}
